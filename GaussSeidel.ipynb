{
 "cells": [
  {
   "cell_type": "code",
   "execution_count": 3,
   "metadata": {},
   "outputs": [
    {
     "name": "stdout",
     "output_type": "stream",
     "text": [
      "The solution is:\n",
      "x1 = 1.001187\n",
      "x2 = 2.000676\n",
      "x3 = 3.000505\n",
      "x4 = 0.000287\n"
     ]
    }
   ],
   "source": [
    "import numpy as np\n",
    "\n",
    "# Define the system of linear equations in matrix form\n",
    "A = np.array([[10, -2, -1, -1],\n",
    "              [-2, 10, -1, -1],\n",
    "              [-1, -1, -2, 10],\n",
    "              [-1, -1, 10, -2]])\n",
    "\n",
    "b = np.array([3, 15, -9, 27])\n",
    "\n",
    "# Define the Gauss-Seidel iteration function\n",
    "def gauss_seidel(A, b, x0, epsilon, max_iterations):\n",
    "    # Initialize variables\n",
    "    x = x0.copy()\n",
    "    n = len(x)\n",
    "    iterations = 0\n",
    "    error = np.inf\n",
    "    converged = False\n",
    "    \n",
    "    # Run the Gauss-Seidel iteration\n",
    "    while error > epsilon and iterations < max_iterations and not converged:\n",
    "        x_old = x.copy()\n",
    "        for i in range(n):\n",
    "            x[i] = (b[i] - np.dot(A[i, :i], x[:i]) - np.dot(A[i, i+1:], x_old[i+1:])) / A[i, i]\n",
    "        iterations += 1\n",
    "        error = np.max(np.abs(x - x_old))\n",
    "        \n",
    "        # Check for convergence\n",
    "        if error < epsilon:\n",
    "            converged = True\n",
    "        elif iterations == max_iterations:\n",
    "            print(\"The iteration did not converge.\")\n",
    "            return None\n",
    "        \n",
    "        # Check for diagonal dominance\n",
    "        if not is_diagonally_dominant(A):\n",
    "            # Adjust the matrix rows to ensure diagonal dominance\n",
    "            for i in range(n):\n",
    "                s = np.sum(np.abs(A[i, :])) - np.abs(A[i, i])\n",
    "                if np.abs(A[i, i]) <= s:\n",
    "                    j = np.argmax(np.abs(A[i, :]))\n",
    "                    A[[i, j], :] = A[[j, i], :]\n",
    "                    b[[i, j]] = b[[j, i]]\n",
    "                    break\n",
    "    \n",
    "    return x\n",
    "\n",
    "# Define the function to check for diagonal dominance\n",
    "def is_diagonally_dominant(A):\n",
    "    n = A.shape[0]\n",
    "    for i in range(n):\n",
    "        if np.abs(A[i, i]) <= np.sum(np.abs(A[i, :])) - np.abs(A[i, i]):\n",
    "            return False\n",
    "    return True\n",
    "\n",
    "# Ask the user for input values\n",
    "epsilon = float(input(\"Enter epsilon value: \"))\n",
    "x0 = np.array([float(input(\"Enter initial guess for x{}: \".format(i+1))) for i in range(4)])\n",
    "max_iterations = int(input(\"Enter maximum number of iterations: \"))\n",
    "\n",
    "# Run the Gauss-Seidel iteration\n",
    "x = gauss_seidel(A, b, x0, epsilon, max_iterations)\n",
    "\n",
    "# Output the results\n",
    "if x is not None:\n",
    "    print(\"The solution is:\")\n",
    "    print(\"x1 = {:.6f}\".format(x[0]))\n",
    "    print(\"x2 = {:.6f}\".format(x[1]))\n",
    "    print(\"x3 = {:.6f}\".format(x[2]))\n",
    "    print(\"x4 = {:.6f}\".format(x[3]))"
   ]
  }
 ],
 "metadata": {
  "kernelspec": {
   "display_name": "Python 3",
   "language": "python",
   "name": "python3"
  },
  "language_info": {
   "codemirror_mode": {
    "name": "ipython",
    "version": 3
   },
   "file_extension": ".py",
   "mimetype": "text/x-python",
   "name": "python",
   "nbconvert_exporter": "python",
   "pygments_lexer": "ipython3",
   "version": "3.11.4"
  }
 },
 "nbformat": 4,
 "nbformat_minor": 2
}
